{
 "cells": [
  {
   "cell_type": "code",
   "execution_count": 1,
   "metadata": {},
   "outputs": [],
   "source": [
    "import requests\n",
    "import pandas as pd\n",
    "\n",
    "import matplotlib.pyplot as plt\n",
    "import seaborn as sns"
   ]
  },
  {
   "cell_type": "markdown",
   "metadata": {},
   "source": [
    "Join the data from Part 1 with the data from Part 2 to create a new dataframe."
   ]
  },
  {
   "cell_type": "markdown",
   "metadata": {},
   "source": [
    "Import foursquare_cafe_final.csv & yelp_cafe_final.csv files"
   ]
  },
  {
   "cell_type": "code",
   "execution_count": 2,
   "metadata": {},
   "outputs": [
    {
     "data": {
      "text/html": [
       "<div>\n",
       "<style scoped>\n",
       "    .dataframe tbody tr th:only-of-type {\n",
       "        vertical-align: middle;\n",
       "    }\n",
       "\n",
       "    .dataframe tbody tr th {\n",
       "        vertical-align: top;\n",
       "    }\n",
       "\n",
       "    .dataframe thead th {\n",
       "        text-align: right;\n",
       "    }\n",
       "</style>\n",
       "<table border=\"1\" class=\"dataframe\">\n",
       "  <thead>\n",
       "    <tr style=\"text-align: right;\">\n",
       "      <th></th>\n",
       "      <th>bikeStationName</th>\n",
       "      <th>Latitude</th>\n",
       "      <th>Longitude</th>\n",
       "      <th>totalBikeSlots</th>\n",
       "      <th>F_listOfCafes</th>\n",
       "      <th>F_listOfRatings</th>\n",
       "      <th>F_numberOfCafes</th>\n",
       "      <th>F_averageRatings</th>\n",
       "    </tr>\n",
       "  </thead>\n",
       "  <tbody>\n",
       "    <tr>\n",
       "      <th>0</th>\n",
       "      <td>Curtatone</td>\n",
       "      <td>43.321600</td>\n",
       "      <td>11.327948</td>\n",
       "      <td>16</td>\n",
       "      <td>['Caffè Fiorella', 'Nannini', 'La Bottega Del ...</td>\n",
       "      <td>[8.8, 8.1, 7.9, 7.3, 7.6, 7.5, 7.3, 7.4, 7.9, ...</td>\n",
       "      <td>10.0</td>\n",
       "      <td>7.71</td>\n",
       "    </tr>\n",
       "    <tr>\n",
       "      <th>1</th>\n",
       "      <td>S Agostino</td>\n",
       "      <td>43.314554</td>\n",
       "      <td>11.331021</td>\n",
       "      <td>10</td>\n",
       "      <td>['Caffè Fiorella', 'Nannini', '4 Cantoni Bar C...</td>\n",
       "      <td>[8.8, 8.1, 7.5, 7.9, 7.6, 7.4, 7.3, 7.3, 7.3, ...</td>\n",
       "      <td>10.0</td>\n",
       "      <td>7.71</td>\n",
       "    </tr>\n",
       "    <tr>\n",
       "      <th>2</th>\n",
       "      <td>S Girolamo</td>\n",
       "      <td>43.316539</td>\n",
       "      <td>11.337212</td>\n",
       "      <td>7</td>\n",
       "      <td>['Caffè Fiorella', 'Nannini', 'La Bottega Del ...</td>\n",
       "      <td>[8.8, 8.1, 7.9, 7.4, 7.6, 7.5, 7.3, 7.3, 7.9, ...</td>\n",
       "      <td>10.0</td>\n",
       "      <td>NaN</td>\n",
       "    </tr>\n",
       "    <tr>\n",
       "      <th>3</th>\n",
       "      <td>Fortezza</td>\n",
       "      <td>43.320523</td>\n",
       "      <td>11.323225</td>\n",
       "      <td>10</td>\n",
       "      <td>['Caffè Fiorella', 'Nannini', 'La Bottega Del ...</td>\n",
       "      <td>[8.8, 8.1, 7.9, 7.6, 7.5, 7.3, 7.3, 7.9, 7.3, ...</td>\n",
       "      <td>10.0</td>\n",
       "      <td>NaN</td>\n",
       "    </tr>\n",
       "    <tr>\n",
       "      <th>4</th>\n",
       "      <td>Antiporto</td>\n",
       "      <td>43.328983</td>\n",
       "      <td>11.321913</td>\n",
       "      <td>10</td>\n",
       "      <td>['Antico Bar La Lizza', 'Bar Il Caffeone', 'Ch...</td>\n",
       "      <td>[7.3, nan, nan, nan, nan, nan, nan, nan, nan, ...</td>\n",
       "      <td>10.0</td>\n",
       "      <td>NaN</td>\n",
       "    </tr>\n",
       "  </tbody>\n",
       "</table>\n",
       "</div>"
      ],
      "text/plain": [
       "  bikeStationName   Latitude  Longitude  totalBikeSlots  \\\n",
       "0       Curtatone  43.321600  11.327948              16   \n",
       "1      S Agostino  43.314554  11.331021              10   \n",
       "2      S Girolamo  43.316539  11.337212               7   \n",
       "3        Fortezza  43.320523  11.323225              10   \n",
       "4       Antiporto  43.328983  11.321913              10   \n",
       "\n",
       "                                       F_listOfCafes  \\\n",
       "0  ['Caffè Fiorella', 'Nannini', 'La Bottega Del ...   \n",
       "1  ['Caffè Fiorella', 'Nannini', '4 Cantoni Bar C...   \n",
       "2  ['Caffè Fiorella', 'Nannini', 'La Bottega Del ...   \n",
       "3  ['Caffè Fiorella', 'Nannini', 'La Bottega Del ...   \n",
       "4  ['Antico Bar La Lizza', 'Bar Il Caffeone', 'Ch...   \n",
       "\n",
       "                                     F_listOfRatings  F_numberOfCafes  \\\n",
       "0  [8.8, 8.1, 7.9, 7.3, 7.6, 7.5, 7.3, 7.4, 7.9, ...             10.0   \n",
       "1  [8.8, 8.1, 7.5, 7.9, 7.6, 7.4, 7.3, 7.3, 7.3, ...             10.0   \n",
       "2  [8.8, 8.1, 7.9, 7.4, 7.6, 7.5, 7.3, 7.3, 7.9, ...             10.0   \n",
       "3  [8.8, 8.1, 7.9, 7.6, 7.5, 7.3, 7.3, 7.9, 7.3, ...             10.0   \n",
       "4  [7.3, nan, nan, nan, nan, nan, nan, nan, nan, ...             10.0   \n",
       "\n",
       "   F_averageRatings  \n",
       "0              7.71  \n",
       "1              7.71  \n",
       "2               NaN  \n",
       "3               NaN  \n",
       "4               NaN  "
      ]
     },
     "execution_count": 2,
     "metadata": {},
     "output_type": "execute_result"
    }
   ],
   "source": [
    "df_foursquare = pd.read_csv('/Users/nikiyaw/Desktop/foursquarecafefinal.csv', sep=';',index_col=0)\n",
    "df_foursquare.head()"
   ]
  },
  {
   "cell_type": "code",
   "execution_count": 3,
   "metadata": {},
   "outputs": [
    {
     "data": {
      "text/html": [
       "<div>\n",
       "<style scoped>\n",
       "    .dataframe tbody tr th:only-of-type {\n",
       "        vertical-align: middle;\n",
       "    }\n",
       "\n",
       "    .dataframe tbody tr th {\n",
       "        vertical-align: top;\n",
       "    }\n",
       "\n",
       "    .dataframe thead th {\n",
       "        text-align: right;\n",
       "    }\n",
       "</style>\n",
       "<table border=\"1\" class=\"dataframe\">\n",
       "  <thead>\n",
       "    <tr style=\"text-align: right;\">\n",
       "      <th></th>\n",
       "      <th>bikeStationName</th>\n",
       "      <th>Latitude</th>\n",
       "      <th>Longitude</th>\n",
       "      <th>totalBikeSlots</th>\n",
       "      <th>F_numberOfCafes</th>\n",
       "      <th>F_averageRatings</th>\n",
       "    </tr>\n",
       "  </thead>\n",
       "  <tbody>\n",
       "    <tr>\n",
       "      <th>0</th>\n",
       "      <td>Curtatone</td>\n",
       "      <td>43.321600</td>\n",
       "      <td>11.327948</td>\n",
       "      <td>16</td>\n",
       "      <td>10.0</td>\n",
       "      <td>7.71</td>\n",
       "    </tr>\n",
       "    <tr>\n",
       "      <th>1</th>\n",
       "      <td>S Agostino</td>\n",
       "      <td>43.314554</td>\n",
       "      <td>11.331021</td>\n",
       "      <td>10</td>\n",
       "      <td>10.0</td>\n",
       "      <td>7.71</td>\n",
       "    </tr>\n",
       "    <tr>\n",
       "      <th>2</th>\n",
       "      <td>S Girolamo</td>\n",
       "      <td>43.316539</td>\n",
       "      <td>11.337212</td>\n",
       "      <td>7</td>\n",
       "      <td>10.0</td>\n",
       "      <td>NaN</td>\n",
       "    </tr>\n",
       "    <tr>\n",
       "      <th>3</th>\n",
       "      <td>Fortezza</td>\n",
       "      <td>43.320523</td>\n",
       "      <td>11.323225</td>\n",
       "      <td>10</td>\n",
       "      <td>10.0</td>\n",
       "      <td>NaN</td>\n",
       "    </tr>\n",
       "    <tr>\n",
       "      <th>4</th>\n",
       "      <td>Antiporto</td>\n",
       "      <td>43.328983</td>\n",
       "      <td>11.321913</td>\n",
       "      <td>10</td>\n",
       "      <td>10.0</td>\n",
       "      <td>NaN</td>\n",
       "    </tr>\n",
       "    <tr>\n",
       "      <th>5</th>\n",
       "      <td>Due Ponti</td>\n",
       "      <td>43.317187</td>\n",
       "      <td>11.354256</td>\n",
       "      <td>12</td>\n",
       "      <td>6.0</td>\n",
       "      <td>NaN</td>\n",
       "    </tr>\n",
       "    <tr>\n",
       "      <th>6</th>\n",
       "      <td>Napoli</td>\n",
       "      <td>43.341757</td>\n",
       "      <td>11.305010</td>\n",
       "      <td>6</td>\n",
       "      <td>7.0</td>\n",
       "      <td>NaN</td>\n",
       "    </tr>\n",
       "    <tr>\n",
       "      <th>7</th>\n",
       "      <td>Ospedale</td>\n",
       "      <td>43.343243</td>\n",
       "      <td>11.326733</td>\n",
       "      <td>14</td>\n",
       "      <td>0.0</td>\n",
       "      <td>NaN</td>\n",
       "    </tr>\n",
       "    <tr>\n",
       "      <th>8</th>\n",
       "      <td>Acquacalda</td>\n",
       "      <td>43.336999</td>\n",
       "      <td>11.300975</td>\n",
       "      <td>10</td>\n",
       "      <td>6.0</td>\n",
       "      <td>NaN</td>\n",
       "    </tr>\n",
       "    <tr>\n",
       "      <th>9</th>\n",
       "      <td>Ravacciano</td>\n",
       "      <td>43.323781</td>\n",
       "      <td>11.338891</td>\n",
       "      <td>10</td>\n",
       "      <td>10.0</td>\n",
       "      <td>NaN</td>\n",
       "    </tr>\n",
       "    <tr>\n",
       "      <th>10</th>\n",
       "      <td>S Miniato</td>\n",
       "      <td>43.347800</td>\n",
       "      <td>11.326046</td>\n",
       "      <td>10</td>\n",
       "      <td>0.0</td>\n",
       "      <td>NaN</td>\n",
       "    </tr>\n",
       "    <tr>\n",
       "      <th>11</th>\n",
       "      <td>Terminal Bus</td>\n",
       "      <td>43.332288</td>\n",
       "      <td>11.324176</td>\n",
       "      <td>12</td>\n",
       "      <td>10.0</td>\n",
       "      <td>NaN</td>\n",
       "    </tr>\n",
       "    <tr>\n",
       "      <th>12</th>\n",
       "      <td>Vico Alto</td>\n",
       "      <td>43.341445</td>\n",
       "      <td>11.312348</td>\n",
       "      <td>8</td>\n",
       "      <td>7.0</td>\n",
       "      <td>NaN</td>\n",
       "    </tr>\n",
       "    <tr>\n",
       "      <th>13</th>\n",
       "      <td>Casa dell'Ambiente</td>\n",
       "      <td>43.326764</td>\n",
       "      <td>11.333702</td>\n",
       "      <td>6</td>\n",
       "      <td>10.0</td>\n",
       "      <td>NaN</td>\n",
       "    </tr>\n",
       "    <tr>\n",
       "      <th>14</th>\n",
       "      <td>Frajese</td>\n",
       "      <td>43.309896</td>\n",
       "      <td>11.315263</td>\n",
       "      <td>10</td>\n",
       "      <td>5.0</td>\n",
       "      <td>NaN</td>\n",
       "    </tr>\n",
       "    <tr>\n",
       "      <th>15</th>\n",
       "      <td>Mercato</td>\n",
       "      <td>43.317315</td>\n",
       "      <td>11.332998</td>\n",
       "      <td>12</td>\n",
       "      <td>10.0</td>\n",
       "      <td>7.71</td>\n",
       "    </tr>\n",
       "    <tr>\n",
       "      <th>16</th>\n",
       "      <td>Tufi</td>\n",
       "      <td>43.296856</td>\n",
       "      <td>11.334854</td>\n",
       "      <td>9</td>\n",
       "      <td>0.0</td>\n",
       "      <td>NaN</td>\n",
       "    </tr>\n",
       "    <tr>\n",
       "      <th>17</th>\n",
       "      <td>Calamandrei</td>\n",
       "      <td>43.343407</td>\n",
       "      <td>11.322849</td>\n",
       "      <td>10</td>\n",
       "      <td>0.0</td>\n",
       "      <td>NaN</td>\n",
       "    </tr>\n",
       "    <tr>\n",
       "      <th>18</th>\n",
       "      <td>Petriccio</td>\n",
       "      <td>43.334640</td>\n",
       "      <td>11.304803</td>\n",
       "      <td>10</td>\n",
       "      <td>6.0</td>\n",
       "      <td>NaN</td>\n",
       "    </tr>\n",
       "  </tbody>\n",
       "</table>\n",
       "</div>"
      ],
      "text/plain": [
       "        bikeStationName   Latitude  Longitude  totalBikeSlots  \\\n",
       "0             Curtatone  43.321600  11.327948              16   \n",
       "1            S Agostino  43.314554  11.331021              10   \n",
       "2            S Girolamo  43.316539  11.337212               7   \n",
       "3              Fortezza  43.320523  11.323225              10   \n",
       "4             Antiporto  43.328983  11.321913              10   \n",
       "5             Due Ponti  43.317187  11.354256              12   \n",
       "6                Napoli  43.341757  11.305010               6   \n",
       "7              Ospedale  43.343243  11.326733              14   \n",
       "8            Acquacalda  43.336999  11.300975              10   \n",
       "9            Ravacciano  43.323781  11.338891              10   \n",
       "10            S Miniato  43.347800  11.326046              10   \n",
       "11         Terminal Bus  43.332288  11.324176              12   \n",
       "12            Vico Alto  43.341445  11.312348               8   \n",
       "13   Casa dell'Ambiente  43.326764  11.333702               6   \n",
       "14              Frajese  43.309896  11.315263              10   \n",
       "15              Mercato  43.317315  11.332998              12   \n",
       "16                 Tufi  43.296856  11.334854               9   \n",
       "17          Calamandrei  43.343407  11.322849              10   \n",
       "18            Petriccio  43.334640  11.304803              10   \n",
       "\n",
       "    F_numberOfCafes  F_averageRatings  \n",
       "0              10.0              7.71  \n",
       "1              10.0              7.71  \n",
       "2              10.0               NaN  \n",
       "3              10.0               NaN  \n",
       "4              10.0               NaN  \n",
       "5               6.0               NaN  \n",
       "6               7.0               NaN  \n",
       "7               0.0               NaN  \n",
       "8               6.0               NaN  \n",
       "9              10.0               NaN  \n",
       "10              0.0               NaN  \n",
       "11             10.0               NaN  \n",
       "12              7.0               NaN  \n",
       "13             10.0               NaN  \n",
       "14              5.0               NaN  \n",
       "15             10.0              7.71  \n",
       "16              0.0               NaN  \n",
       "17              0.0               NaN  \n",
       "18              6.0               NaN  "
      ]
     },
     "execution_count": 3,
     "metadata": {},
     "output_type": "execute_result"
    }
   ],
   "source": [
    "df_foursquare_partial = df_foursquare[['bikeStationName','Latitude','Longitude',\n",
    "                                      'totalBikeSlots','F_numberOfCafes','F_averageRatings']]\n",
    "df_foursquare_partial"
   ]
  },
  {
   "cell_type": "code",
   "execution_count": 4,
   "metadata": {},
   "outputs": [
    {
     "data": {
      "text/html": [
       "<div>\n",
       "<style scoped>\n",
       "    .dataframe tbody tr th:only-of-type {\n",
       "        vertical-align: middle;\n",
       "    }\n",
       "\n",
       "    .dataframe tbody tr th {\n",
       "        vertical-align: top;\n",
       "    }\n",
       "\n",
       "    .dataframe thead th {\n",
       "        text-align: right;\n",
       "    }\n",
       "</style>\n",
       "<table border=\"1\" class=\"dataframe\">\n",
       "  <thead>\n",
       "    <tr style=\"text-align: right;\">\n",
       "      <th></th>\n",
       "      <th>bikeStationName</th>\n",
       "      <th>Latitude</th>\n",
       "      <th>Longitude</th>\n",
       "      <th>totalBikeSlots</th>\n",
       "      <th>Y_listOfCafes</th>\n",
       "      <th>Y_listOfRatings</th>\n",
       "      <th>Y_numberOfCafes</th>\n",
       "      <th>Y_averageRatings</th>\n",
       "    </tr>\n",
       "  </thead>\n",
       "  <tbody>\n",
       "    <tr>\n",
       "      <th>0</th>\n",
       "      <td>Curtatone</td>\n",
       "      <td>43.321600</td>\n",
       "      <td>11.327948</td>\n",
       "      <td>16</td>\n",
       "      <td>['Torrefazione Fiorella', 'Café Nannini', 'Caf...</td>\n",
       "      <td>[4.5, 4.5, 5.0, 4.0, 5.0, 3.5, 4.5, 3.0, 4.5, ...</td>\n",
       "      <td>14.0</td>\n",
       "      <td>4.035714</td>\n",
       "    </tr>\n",
       "    <tr>\n",
       "      <th>1</th>\n",
       "      <td>S Agostino</td>\n",
       "      <td>43.314554</td>\n",
       "      <td>11.331021</td>\n",
       "      <td>10</td>\n",
       "      <td>['Torrefazione Fiorella', 'Bio &amp; Chocolate', '...</td>\n",
       "      <td>[4.5, 5.0, 4.5, 4.0, 5.0, 3.0, 5.0, 4.0, 4.5, ...</td>\n",
       "      <td>13.0</td>\n",
       "      <td>4.000000</td>\n",
       "    </tr>\n",
       "    <tr>\n",
       "      <th>2</th>\n",
       "      <td>S Girolamo</td>\n",
       "      <td>43.316539</td>\n",
       "      <td>11.337212</td>\n",
       "      <td>7</td>\n",
       "      <td>['Torrefazione Fiorella', 'Bio &amp; Chocolate', '...</td>\n",
       "      <td>[4.5, 5.0, 4.0, 5.0, 4.5, 3.0, 4.0, 5.0, 4.5, ...</td>\n",
       "      <td>13.0</td>\n",
       "      <td>4.000000</td>\n",
       "    </tr>\n",
       "    <tr>\n",
       "      <th>3</th>\n",
       "      <td>Fortezza</td>\n",
       "      <td>43.320523</td>\n",
       "      <td>11.323225</td>\n",
       "      <td>10</td>\n",
       "      <td>['Torrefazione Fiorella', 'Café Nannini', 'Caf...</td>\n",
       "      <td>[4.5, 4.5, 5.0, 4.0, 5.0, 4.5, 3.5, 3.0, 5.0, ...</td>\n",
       "      <td>14.0</td>\n",
       "      <td>4.035714</td>\n",
       "    </tr>\n",
       "    <tr>\n",
       "      <th>4</th>\n",
       "      <td>Antiporto</td>\n",
       "      <td>43.328983</td>\n",
       "      <td>11.321913</td>\n",
       "      <td>10</td>\n",
       "      <td>['Café Nannini', 'Cafe Morbidi', 'Cafe Berta',...</td>\n",
       "      <td>[4.5, 5.0, 4.5, 3.0, 3.5]</td>\n",
       "      <td>5.0</td>\n",
       "      <td>4.100000</td>\n",
       "    </tr>\n",
       "  </tbody>\n",
       "</table>\n",
       "</div>"
      ],
      "text/plain": [
       "  bikeStationName   Latitude  Longitude  totalBikeSlots  \\\n",
       "0       Curtatone  43.321600  11.327948              16   \n",
       "1      S Agostino  43.314554  11.331021              10   \n",
       "2      S Girolamo  43.316539  11.337212               7   \n",
       "3        Fortezza  43.320523  11.323225              10   \n",
       "4       Antiporto  43.328983  11.321913              10   \n",
       "\n",
       "                                       Y_listOfCafes  \\\n",
       "0  ['Torrefazione Fiorella', 'Café Nannini', 'Caf...   \n",
       "1  ['Torrefazione Fiorella', 'Bio & Chocolate', '...   \n",
       "2  ['Torrefazione Fiorella', 'Bio & Chocolate', '...   \n",
       "3  ['Torrefazione Fiorella', 'Café Nannini', 'Caf...   \n",
       "4  ['Café Nannini', 'Cafe Morbidi', 'Cafe Berta',...   \n",
       "\n",
       "                                     Y_listOfRatings  Y_numberOfCafes  \\\n",
       "0  [4.5, 4.5, 5.0, 4.0, 5.0, 3.5, 4.5, 3.0, 4.5, ...             14.0   \n",
       "1  [4.5, 5.0, 4.5, 4.0, 5.0, 3.0, 5.0, 4.0, 4.5, ...             13.0   \n",
       "2  [4.5, 5.0, 4.0, 5.0, 4.5, 3.0, 4.0, 5.0, 4.5, ...             13.0   \n",
       "3  [4.5, 4.5, 5.0, 4.0, 5.0, 4.5, 3.5, 3.0, 5.0, ...             14.0   \n",
       "4                          [4.5, 5.0, 4.5, 3.0, 3.5]              5.0   \n",
       "\n",
       "   Y_averageRatings  \n",
       "0          4.035714  \n",
       "1          4.000000  \n",
       "2          4.000000  \n",
       "3          4.035714  \n",
       "4          4.100000  "
      ]
     },
     "execution_count": 4,
     "metadata": {},
     "output_type": "execute_result"
    }
   ],
   "source": [
    "df_yelp = pd.read_csv('/Users/nikiyaw/Desktop/yelpcafefinal.csv', sep=';',index_col=0)\n",
    "df_yelp.head()"
   ]
  },
  {
   "cell_type": "code",
   "execution_count": 5,
   "metadata": {},
   "outputs": [
    {
     "data": {
      "text/html": [
       "<div>\n",
       "<style scoped>\n",
       "    .dataframe tbody tr th:only-of-type {\n",
       "        vertical-align: middle;\n",
       "    }\n",
       "\n",
       "    .dataframe tbody tr th {\n",
       "        vertical-align: top;\n",
       "    }\n",
       "\n",
       "    .dataframe thead th {\n",
       "        text-align: right;\n",
       "    }\n",
       "</style>\n",
       "<table border=\"1\" class=\"dataframe\">\n",
       "  <thead>\n",
       "    <tr style=\"text-align: right;\">\n",
       "      <th></th>\n",
       "      <th>bikeStationName</th>\n",
       "      <th>Y_numberOfCafes</th>\n",
       "      <th>Y_averageRatings</th>\n",
       "    </tr>\n",
       "  </thead>\n",
       "  <tbody>\n",
       "    <tr>\n",
       "      <th>0</th>\n",
       "      <td>Curtatone</td>\n",
       "      <td>14.0</td>\n",
       "      <td>4.035714</td>\n",
       "    </tr>\n",
       "    <tr>\n",
       "      <th>1</th>\n",
       "      <td>S Agostino</td>\n",
       "      <td>13.0</td>\n",
       "      <td>4.000000</td>\n",
       "    </tr>\n",
       "    <tr>\n",
       "      <th>2</th>\n",
       "      <td>S Girolamo</td>\n",
       "      <td>13.0</td>\n",
       "      <td>4.000000</td>\n",
       "    </tr>\n",
       "    <tr>\n",
       "      <th>3</th>\n",
       "      <td>Fortezza</td>\n",
       "      <td>14.0</td>\n",
       "      <td>4.035714</td>\n",
       "    </tr>\n",
       "    <tr>\n",
       "      <th>4</th>\n",
       "      <td>Antiporto</td>\n",
       "      <td>5.0</td>\n",
       "      <td>4.100000</td>\n",
       "    </tr>\n",
       "    <tr>\n",
       "      <th>5</th>\n",
       "      <td>Due Ponti</td>\n",
       "      <td>0.0</td>\n",
       "      <td>NaN</td>\n",
       "    </tr>\n",
       "    <tr>\n",
       "      <th>6</th>\n",
       "      <td>Napoli</td>\n",
       "      <td>1.0</td>\n",
       "      <td>3.000000</td>\n",
       "    </tr>\n",
       "    <tr>\n",
       "      <th>7</th>\n",
       "      <td>Ospedale</td>\n",
       "      <td>0.0</td>\n",
       "      <td>NaN</td>\n",
       "    </tr>\n",
       "    <tr>\n",
       "      <th>8</th>\n",
       "      <td>Acquacalda</td>\n",
       "      <td>1.0</td>\n",
       "      <td>3.000000</td>\n",
       "    </tr>\n",
       "    <tr>\n",
       "      <th>9</th>\n",
       "      <td>Ravacciano</td>\n",
       "      <td>13.0</td>\n",
       "      <td>4.000000</td>\n",
       "    </tr>\n",
       "    <tr>\n",
       "      <th>10</th>\n",
       "      <td>S Miniato</td>\n",
       "      <td>0.0</td>\n",
       "      <td>NaN</td>\n",
       "    </tr>\n",
       "    <tr>\n",
       "      <th>11</th>\n",
       "      <td>Terminal Bus</td>\n",
       "      <td>2.0</td>\n",
       "      <td>3.750000</td>\n",
       "    </tr>\n",
       "    <tr>\n",
       "      <th>12</th>\n",
       "      <td>Vico Alto</td>\n",
       "      <td>1.0</td>\n",
       "      <td>3.000000</td>\n",
       "    </tr>\n",
       "    <tr>\n",
       "      <th>13</th>\n",
       "      <td>Casa dell'Ambiente</td>\n",
       "      <td>11.0</td>\n",
       "      <td>4.045455</td>\n",
       "    </tr>\n",
       "    <tr>\n",
       "      <th>14</th>\n",
       "      <td>Frajese</td>\n",
       "      <td>0.0</td>\n",
       "      <td>NaN</td>\n",
       "    </tr>\n",
       "    <tr>\n",
       "      <th>15</th>\n",
       "      <td>Mercato</td>\n",
       "      <td>13.0</td>\n",
       "      <td>4.000000</td>\n",
       "    </tr>\n",
       "    <tr>\n",
       "      <th>16</th>\n",
       "      <td>Tufi</td>\n",
       "      <td>1.0</td>\n",
       "      <td>4.000000</td>\n",
       "    </tr>\n",
       "    <tr>\n",
       "      <th>17</th>\n",
       "      <td>Calamandrei</td>\n",
       "      <td>1.0</td>\n",
       "      <td>3.000000</td>\n",
       "    </tr>\n",
       "    <tr>\n",
       "      <th>18</th>\n",
       "      <td>Petriccio</td>\n",
       "      <td>2.0</td>\n",
       "      <td>3.000000</td>\n",
       "    </tr>\n",
       "  </tbody>\n",
       "</table>\n",
       "</div>"
      ],
      "text/plain": [
       "        bikeStationName  Y_numberOfCafes  Y_averageRatings\n",
       "0             Curtatone             14.0          4.035714\n",
       "1            S Agostino             13.0          4.000000\n",
       "2            S Girolamo             13.0          4.000000\n",
       "3              Fortezza             14.0          4.035714\n",
       "4             Antiporto              5.0          4.100000\n",
       "5             Due Ponti              0.0               NaN\n",
       "6                Napoli              1.0          3.000000\n",
       "7              Ospedale              0.0               NaN\n",
       "8            Acquacalda              1.0          3.000000\n",
       "9            Ravacciano             13.0          4.000000\n",
       "10            S Miniato              0.0               NaN\n",
       "11         Terminal Bus              2.0          3.750000\n",
       "12            Vico Alto              1.0          3.000000\n",
       "13   Casa dell'Ambiente             11.0          4.045455\n",
       "14              Frajese              0.0               NaN\n",
       "15              Mercato             13.0          4.000000\n",
       "16                 Tufi              1.0          4.000000\n",
       "17          Calamandrei              1.0          3.000000\n",
       "18            Petriccio              2.0          3.000000"
      ]
     },
     "execution_count": 5,
     "metadata": {},
     "output_type": "execute_result"
    }
   ],
   "source": [
    "df_yelp_partial = df_yelp[['bikeStationName','Y_numberOfCafes','Y_averageRatings']]\n",
    "df_yelp_partial"
   ]
  },
  {
   "cell_type": "markdown",
   "metadata": {},
   "source": [
    "Merge df_foursquare & df_yelp but keeping only certain columns."
   ]
  },
  {
   "cell_type": "code",
   "execution_count": 6,
   "metadata": {},
   "outputs": [
    {
     "data": {
      "text/html": [
       "<div>\n",
       "<style scoped>\n",
       "    .dataframe tbody tr th:only-of-type {\n",
       "        vertical-align: middle;\n",
       "    }\n",
       "\n",
       "    .dataframe tbody tr th {\n",
       "        vertical-align: top;\n",
       "    }\n",
       "\n",
       "    .dataframe thead th {\n",
       "        text-align: right;\n",
       "    }\n",
       "</style>\n",
       "<table border=\"1\" class=\"dataframe\">\n",
       "  <thead>\n",
       "    <tr style=\"text-align: right;\">\n",
       "      <th></th>\n",
       "      <th>bikeStationName</th>\n",
       "      <th>Latitude</th>\n",
       "      <th>Longitude</th>\n",
       "      <th>totalBikeSlots</th>\n",
       "      <th>F_numberOfCafes</th>\n",
       "      <th>F_averageRatings</th>\n",
       "      <th>Y_numberOfCafes</th>\n",
       "      <th>Y_averageRatings</th>\n",
       "    </tr>\n",
       "  </thead>\n",
       "  <tbody>\n",
       "    <tr>\n",
       "      <th>0</th>\n",
       "      <td>Curtatone</td>\n",
       "      <td>43.321600</td>\n",
       "      <td>11.327948</td>\n",
       "      <td>16</td>\n",
       "      <td>10.0</td>\n",
       "      <td>7.71</td>\n",
       "      <td>14.0</td>\n",
       "      <td>4.035714</td>\n",
       "    </tr>\n",
       "    <tr>\n",
       "      <th>1</th>\n",
       "      <td>S Agostino</td>\n",
       "      <td>43.314554</td>\n",
       "      <td>11.331021</td>\n",
       "      <td>10</td>\n",
       "      <td>10.0</td>\n",
       "      <td>7.71</td>\n",
       "      <td>13.0</td>\n",
       "      <td>4.000000</td>\n",
       "    </tr>\n",
       "    <tr>\n",
       "      <th>2</th>\n",
       "      <td>S Girolamo</td>\n",
       "      <td>43.316539</td>\n",
       "      <td>11.337212</td>\n",
       "      <td>7</td>\n",
       "      <td>10.0</td>\n",
       "      <td>NaN</td>\n",
       "      <td>13.0</td>\n",
       "      <td>4.000000</td>\n",
       "    </tr>\n",
       "    <tr>\n",
       "      <th>3</th>\n",
       "      <td>Fortezza</td>\n",
       "      <td>43.320523</td>\n",
       "      <td>11.323225</td>\n",
       "      <td>10</td>\n",
       "      <td>10.0</td>\n",
       "      <td>NaN</td>\n",
       "      <td>14.0</td>\n",
       "      <td>4.035714</td>\n",
       "    </tr>\n",
       "    <tr>\n",
       "      <th>4</th>\n",
       "      <td>Antiporto</td>\n",
       "      <td>43.328983</td>\n",
       "      <td>11.321913</td>\n",
       "      <td>10</td>\n",
       "      <td>10.0</td>\n",
       "      <td>NaN</td>\n",
       "      <td>5.0</td>\n",
       "      <td>4.100000</td>\n",
       "    </tr>\n",
       "    <tr>\n",
       "      <th>5</th>\n",
       "      <td>Due Ponti</td>\n",
       "      <td>43.317187</td>\n",
       "      <td>11.354256</td>\n",
       "      <td>12</td>\n",
       "      <td>6.0</td>\n",
       "      <td>NaN</td>\n",
       "      <td>0.0</td>\n",
       "      <td>NaN</td>\n",
       "    </tr>\n",
       "    <tr>\n",
       "      <th>6</th>\n",
       "      <td>Napoli</td>\n",
       "      <td>43.341757</td>\n",
       "      <td>11.305010</td>\n",
       "      <td>6</td>\n",
       "      <td>7.0</td>\n",
       "      <td>NaN</td>\n",
       "      <td>1.0</td>\n",
       "      <td>3.000000</td>\n",
       "    </tr>\n",
       "    <tr>\n",
       "      <th>7</th>\n",
       "      <td>Ospedale</td>\n",
       "      <td>43.343243</td>\n",
       "      <td>11.326733</td>\n",
       "      <td>14</td>\n",
       "      <td>0.0</td>\n",
       "      <td>NaN</td>\n",
       "      <td>0.0</td>\n",
       "      <td>NaN</td>\n",
       "    </tr>\n",
       "    <tr>\n",
       "      <th>8</th>\n",
       "      <td>Acquacalda</td>\n",
       "      <td>43.336999</td>\n",
       "      <td>11.300975</td>\n",
       "      <td>10</td>\n",
       "      <td>6.0</td>\n",
       "      <td>NaN</td>\n",
       "      <td>1.0</td>\n",
       "      <td>3.000000</td>\n",
       "    </tr>\n",
       "    <tr>\n",
       "      <th>9</th>\n",
       "      <td>Ravacciano</td>\n",
       "      <td>43.323781</td>\n",
       "      <td>11.338891</td>\n",
       "      <td>10</td>\n",
       "      <td>10.0</td>\n",
       "      <td>NaN</td>\n",
       "      <td>13.0</td>\n",
       "      <td>4.000000</td>\n",
       "    </tr>\n",
       "    <tr>\n",
       "      <th>10</th>\n",
       "      <td>S Miniato</td>\n",
       "      <td>43.347800</td>\n",
       "      <td>11.326046</td>\n",
       "      <td>10</td>\n",
       "      <td>0.0</td>\n",
       "      <td>NaN</td>\n",
       "      <td>0.0</td>\n",
       "      <td>NaN</td>\n",
       "    </tr>\n",
       "    <tr>\n",
       "      <th>11</th>\n",
       "      <td>Terminal Bus</td>\n",
       "      <td>43.332288</td>\n",
       "      <td>11.324176</td>\n",
       "      <td>12</td>\n",
       "      <td>10.0</td>\n",
       "      <td>NaN</td>\n",
       "      <td>2.0</td>\n",
       "      <td>3.750000</td>\n",
       "    </tr>\n",
       "    <tr>\n",
       "      <th>12</th>\n",
       "      <td>Vico Alto</td>\n",
       "      <td>43.341445</td>\n",
       "      <td>11.312348</td>\n",
       "      <td>8</td>\n",
       "      <td>7.0</td>\n",
       "      <td>NaN</td>\n",
       "      <td>1.0</td>\n",
       "      <td>3.000000</td>\n",
       "    </tr>\n",
       "    <tr>\n",
       "      <th>13</th>\n",
       "      <td>Casa dell'Ambiente</td>\n",
       "      <td>43.326764</td>\n",
       "      <td>11.333702</td>\n",
       "      <td>6</td>\n",
       "      <td>10.0</td>\n",
       "      <td>NaN</td>\n",
       "      <td>11.0</td>\n",
       "      <td>4.045455</td>\n",
       "    </tr>\n",
       "    <tr>\n",
       "      <th>14</th>\n",
       "      <td>Frajese</td>\n",
       "      <td>43.309896</td>\n",
       "      <td>11.315263</td>\n",
       "      <td>10</td>\n",
       "      <td>5.0</td>\n",
       "      <td>NaN</td>\n",
       "      <td>0.0</td>\n",
       "      <td>NaN</td>\n",
       "    </tr>\n",
       "    <tr>\n",
       "      <th>15</th>\n",
       "      <td>Mercato</td>\n",
       "      <td>43.317315</td>\n",
       "      <td>11.332998</td>\n",
       "      <td>12</td>\n",
       "      <td>10.0</td>\n",
       "      <td>7.71</td>\n",
       "      <td>13.0</td>\n",
       "      <td>4.000000</td>\n",
       "    </tr>\n",
       "    <tr>\n",
       "      <th>16</th>\n",
       "      <td>Tufi</td>\n",
       "      <td>43.296856</td>\n",
       "      <td>11.334854</td>\n",
       "      <td>9</td>\n",
       "      <td>0.0</td>\n",
       "      <td>NaN</td>\n",
       "      <td>1.0</td>\n",
       "      <td>4.000000</td>\n",
       "    </tr>\n",
       "    <tr>\n",
       "      <th>17</th>\n",
       "      <td>Calamandrei</td>\n",
       "      <td>43.343407</td>\n",
       "      <td>11.322849</td>\n",
       "      <td>10</td>\n",
       "      <td>0.0</td>\n",
       "      <td>NaN</td>\n",
       "      <td>1.0</td>\n",
       "      <td>3.000000</td>\n",
       "    </tr>\n",
       "    <tr>\n",
       "      <th>18</th>\n",
       "      <td>Petriccio</td>\n",
       "      <td>43.334640</td>\n",
       "      <td>11.304803</td>\n",
       "      <td>10</td>\n",
       "      <td>6.0</td>\n",
       "      <td>NaN</td>\n",
       "      <td>2.0</td>\n",
       "      <td>3.000000</td>\n",
       "    </tr>\n",
       "  </tbody>\n",
       "</table>\n",
       "</div>"
      ],
      "text/plain": [
       "        bikeStationName   Latitude  Longitude  totalBikeSlots  \\\n",
       "0             Curtatone  43.321600  11.327948              16   \n",
       "1            S Agostino  43.314554  11.331021              10   \n",
       "2            S Girolamo  43.316539  11.337212               7   \n",
       "3              Fortezza  43.320523  11.323225              10   \n",
       "4             Antiporto  43.328983  11.321913              10   \n",
       "5             Due Ponti  43.317187  11.354256              12   \n",
       "6                Napoli  43.341757  11.305010               6   \n",
       "7              Ospedale  43.343243  11.326733              14   \n",
       "8            Acquacalda  43.336999  11.300975              10   \n",
       "9            Ravacciano  43.323781  11.338891              10   \n",
       "10            S Miniato  43.347800  11.326046              10   \n",
       "11         Terminal Bus  43.332288  11.324176              12   \n",
       "12            Vico Alto  43.341445  11.312348               8   \n",
       "13   Casa dell'Ambiente  43.326764  11.333702               6   \n",
       "14              Frajese  43.309896  11.315263              10   \n",
       "15              Mercato  43.317315  11.332998              12   \n",
       "16                 Tufi  43.296856  11.334854               9   \n",
       "17          Calamandrei  43.343407  11.322849              10   \n",
       "18            Petriccio  43.334640  11.304803              10   \n",
       "\n",
       "    F_numberOfCafes  F_averageRatings  Y_numberOfCafes  Y_averageRatings  \n",
       "0              10.0              7.71             14.0          4.035714  \n",
       "1              10.0              7.71             13.0          4.000000  \n",
       "2              10.0               NaN             13.0          4.000000  \n",
       "3              10.0               NaN             14.0          4.035714  \n",
       "4              10.0               NaN              5.0          4.100000  \n",
       "5               6.0               NaN              0.0               NaN  \n",
       "6               7.0               NaN              1.0          3.000000  \n",
       "7               0.0               NaN              0.0               NaN  \n",
       "8               6.0               NaN              1.0          3.000000  \n",
       "9              10.0               NaN             13.0          4.000000  \n",
       "10              0.0               NaN              0.0               NaN  \n",
       "11             10.0               NaN              2.0          3.750000  \n",
       "12              7.0               NaN              1.0          3.000000  \n",
       "13             10.0               NaN             11.0          4.045455  \n",
       "14              5.0               NaN              0.0               NaN  \n",
       "15             10.0              7.71             13.0          4.000000  \n",
       "16              0.0               NaN              1.0          4.000000  \n",
       "17              0.0               NaN              1.0          3.000000  \n",
       "18              6.0               NaN              2.0          3.000000  "
      ]
     },
     "execution_count": 6,
     "metadata": {},
     "output_type": "execute_result"
    }
   ],
   "source": [
    "bikeInfoMerged = df_foursquare_partial.merge(df_yelp_partial[\n",
    "    ['bikeStationName','Y_numberOfCafes','Y_averageRatings']])\n",
    "bikeInfoMerged"
   ]
  },
  {
   "cell_type": "code",
   "execution_count": 7,
   "metadata": {},
   "outputs": [],
   "source": [
    "bikeInfoMerged.to_csv('/Users/nikiyaw/Desktop/bikeInfoMerged.csv',sep=';')"
   ]
  },
  {
   "cell_type": "markdown",
   "metadata": {},
   "source": [
    "Provide a visualization that you used as part of your EDA process. Explain the initial pattern or relationship you discoved through this visualization. "
   ]
  },
  {
   "cell_type": "code",
   "execution_count": 8,
   "metadata": {},
   "outputs": [
    {
     "name": "stdout",
     "output_type": "stream",
     "text": [
      "(19, 8)\n"
     ]
    }
   ],
   "source": [
    "print(bikeInfoMerged.shape)"
   ]
  },
  {
   "cell_type": "markdown",
   "metadata": {},
   "source": [
    "The next step would be checking for duplicate rows. Since this is a fairly small sample size, it is obvious that there are none.  "
   ]
  },
  {
   "cell_type": "markdown",
   "metadata": {},
   "source": [
    "The target variable in this case is the totalBikeSlots. Let's check the descriptive statistics and histogram. "
   ]
  },
  {
   "cell_type": "code",
   "execution_count": 9,
   "metadata": {},
   "outputs": [
    {
     "data": {
      "text/plain": [
       "count    19.000000\n",
       "mean     10.105263\n",
       "std       2.469699\n",
       "min       6.000000\n",
       "25%       9.500000\n",
       "50%      10.000000\n",
       "75%      11.000000\n",
       "max      16.000000\n",
       "Name: totalBikeSlots, dtype: float64"
      ]
     },
     "execution_count": 9,
     "metadata": {},
     "output_type": "execute_result"
    }
   ],
   "source": [
    "bikeInfoMerged['totalBikeSlots'].describe()"
   ]
  },
  {
   "cell_type": "code",
   "execution_count": 13,
   "metadata": {},
   "outputs": [
    {
     "data": {
      "text/plain": [
       "<Axes: xlabel='totalBikeSlots', ylabel='Count'>"
      ]
     },
     "execution_count": 13,
     "metadata": {},
     "output_type": "execute_result"
    },
    {
     "data": {
      "image/png": "[encoded data removed]",
      "text/plain": [
       "<Figure size 640x480 with 1 Axes>"
      ]
     },
     "metadata": {},
     "output_type": "display_data"
    }
   ],
   "source": [
    "sns.histplot(bikeInfoMerged['totalBikeSlots'])"
   ]
  },
  {
   "cell_type": "markdown",
   "metadata": {},
   "source": [
    "It seems like the overall distribution resembles a normal distribution but we can also observe that there are no bike stations that have 11 bike slots. Let's perform a normality test to check out the distribution. "
   ]
  },
  {
   "cell_type": "code",
   "execution_count": 11,
   "metadata": {},
   "outputs": [
    {
     "name": "stdout",
     "output_type": "stream",
     "text": [
      "0.070843398571014404296875000000\n"
     ]
    }
   ],
   "source": [
    "from scipy import stats\n",
    "\n",
    "stat, p = stats.shapiro(bikeInfoMerged['totalBikeSlots'])\n",
    "print('%0.30f' % p)"
   ]
  },
  {
   "cell_type": "markdown",
   "metadata": {},
   "source": [
    "Since the p-value obtained from the test is larger than 0.05, we accept the null hypothesis that the data is normally distributed. "
   ]
  },
  {
   "cell_type": "markdown",
   "metadata": {},
   "source": [
    "Just wanna try out another way to do a histogram."
   ]
  },
  {
   "cell_type": "code",
   "execution_count": 24,
   "metadata": {},
   "outputs": [
    {
     "data": {
      "text/plain": [
       "<seaborn.axisgrid.FacetGrid at 0x7fbde323f0a0>"
      ]
     },
     "execution_count": 24,
     "metadata": {},
     "output_type": "execute_result"
    },
    {
     "data": {
      "image/png": "[encoded data removed]",
      "text/plain": [
       "<Figure size 500x500 with 1 Axes>"
      ]
     },
     "metadata": {},
     "output_type": "display_data"
    }
   ],
   "source": [
    "sns.displot(data=bikeInfoMerged, x='totalBikeSlots',kde=True)"
   ]
  },
  {
   "cell_type": "markdown",
   "metadata": {},
   "source": [
    "The null hypothesis suggests that the number of cafes nearby has no effect on the number of bike slots around. \n",
    "\n",
    "The alternative hypothesis suggests that the higher the number of cafes in the vicinity, the higher the number of bike slots nearby. We can assume that if an area is packed with cafes, it would be a fairly popular neighbourhood, hence people would travel there often. That would explain why there are more bike slots near the area. "
   ]
  },
  {
   "cell_type": "markdown",
   "metadata": {},
   "source": [
    "Let's first compare the data obtained from Foursquare API. "
   ]
  },
  {
   "cell_type": "code",
   "execution_count": 22,
   "metadata": {},
   "outputs": [
    {
     "data": {
      "text/plain": [
       "<Axes: xlabel='F_numberOfCafes', ylabel='totalBikeSlots'>"
      ]
     },
     "execution_count": 22,
     "metadata": {},
     "output_type": "execute_result"
    },
    {
     "data": {
      "image/png": "[encoded data removed]",
      "text/plain": [
       "<Figure size 640x480 with 1 Axes>"
      ]
     },
     "metadata": {},
     "output_type": "display_data"
    }
   ],
   "source": [
    "# scatter plot F_numberOfCafes vs totalBikeSlots\n",
    "\n",
    "var1 = 'F_numberOfCafes'\n",
    "data = bikeInfoMerged[['totalBikeSlots', var1]]\n",
    "data.plot.scatter(x=var1, y='totalBikeSlots')"
   ]
  },
  {
   "cell_type": "code",
   "execution_count": 15,
   "metadata": {},
   "outputs": [
    {
     "name": "stdout",
     "output_type": "stream",
     "text": [
      "0.757262904345185838828058422222966328263282775878906250000000\n"
     ]
    }
   ],
   "source": [
    "stat, p = stats.pearsonr(bikeInfoMerged['F_numberOfCafes'], bikeInfoMerged['totalBikeSlots'])\n",
    "print('%0.60f' % p)"
   ]
  },
  {
   "cell_type": "markdown",
   "metadata": {},
   "source": [
    "Boy, are we wrong\n",
    "\n",
    "As we can see the p-value is 0.76, we can conclude that the evidence is not strong enough to suggest that the number of cafes nearby has an effect on the total bike slots. "
   ]
  },
  {
   "cell_type": "code",
   "execution_count": 33,
   "metadata": {},
   "outputs": [
    {
     "data": {
      "text/plain": [
       "<Axes: >"
      ]
     },
     "execution_count": 33,
     "metadata": {},
     "output_type": "execute_result"
    },
    {
     "data": {
      "image/png": "[encoded data removed]",
      "text/plain": [
       "<Figure size 640x480 with 1 Axes>"
      ]
     },
     "metadata": {},
     "output_type": "display_data"
    }
   ],
   "source": [
    "bikeInfoMerged['F_numberOfCafes'].plot(kind='box')"
   ]
  },
  {
   "cell_type": "markdown",
   "metadata": {},
   "source": [
    "Let's compare the data obtained from Yelp API."
   ]
  },
  {
   "cell_type": "code",
   "execution_count": 20,
   "metadata": {},
   "outputs": [
    {
     "data": {
      "text/plain": [
       "<Axes: xlabel='Y_numberOfCafes', ylabel='totalBikeSlots'>"
      ]
     },
     "execution_count": 20,
     "metadata": {},
     "output_type": "execute_result"
    },
    {
     "data": {
      "image/png": "[encoded data removed]",
      "text/plain": [
       "<Figure size 640x480 with 1 Axes>"
      ]
     },
     "metadata": {},
     "output_type": "display_data"
    }
   ],
   "source": [
    "# scatter plot Y_numberOfCafes vs totalBikeSlots\n",
    "\n",
    "var2 = 'Y_numberOfCafes'\n",
    "data = bikeInfoMerged[['totalBikeSlots', var2]]\n",
    "data.plot.scatter(x=var2, y='totalBikeSlots')"
   ]
  },
  {
   "cell_type": "code",
   "execution_count": 16,
   "metadata": {},
   "outputs": [
    {
     "name": "stdout",
     "output_type": "stream",
     "text": [
      "0.843411522194963292342606564488960430026054382324218750000000\n"
     ]
    }
   ],
   "source": [
    "stat, p = stats.pearsonr(bikeInfoMerged['Y_numberOfCafes'], bikeInfoMerged['totalBikeSlots'])\n",
    "print('%0.60f' % p)"
   ]
  },
  {
   "cell_type": "markdown",
   "metadata": {},
   "source": [
    "Similar to the result from above, since p-value is larger than 0.05 by a stretch, we can conclude that there is no significant correlation between totalBikeSlots and Y_numberOfCafes."
   ]
  },
  {
   "cell_type": "code",
   "execution_count": 32,
   "metadata": {},
   "outputs": [
    {
     "data": {
      "text/plain": [
       "<Axes: >"
      ]
     },
     "execution_count": 32,
     "metadata": {},
     "output_type": "execute_result"
    },
    {
     "data": {
      "image/png": "[encoded data removed]",
      "text/plain": [
       "<Figure size 640x480 with 1 Axes>"
      ]
     },
     "metadata": {},
     "output_type": "display_data"
    }
   ],
   "source": [
    "bikeInfoMerged['Y_numberOfCafes'].plot(kind='box')"
   ]
  },
  {
   "cell_type": "markdown",
   "metadata": {},
   "source": [
    "# Database"
   ]
  },
  {
   "cell_type": "markdown",
   "metadata": {},
   "source": [
    "Put all your results in an SQLite3 database (remember, SQLite stores its databases as files in your local machine - make sure to create your database in your project's data/ directory!)"
   ]
  },
  {
   "cell_type": "code",
   "execution_count": 42,
   "metadata": {},
   "outputs": [
    {
     "name": "stdout",
     "output_type": "stream",
     "text": [
      "Connection to SQLite DB successful\n"
     ]
    }
   ],
   "source": [
    "import sqlite3\n",
    "from sqlite3 import Error\n",
    "\n",
    "def create_connection(path):\n",
    "    connection = None\n",
    "    try:\n",
    "        connection = sqlite3.connect(path)\n",
    "        print(\"Connection to SQLite DB successful\")\n",
    "    except Error as e:\n",
    "        print(f\"The error '{e}' occurred\")\n",
    "\n",
    "    return connection\n",
    "\n",
    "connection = create_connection('bike_info.sqlite')"
   ]
  },
  {
   "cell_type": "code",
   "execution_count": 43,
   "metadata": {},
   "outputs": [],
   "source": [
    "def execute_query(connection, query):\n",
    "    cursor = connection.cursor()\n",
    "    try:\n",
    "        cursor.execute(query)\n",
    "        connection.commit()\n",
    "        print(\"Query executed successfully\")\n",
    "    except Error as e:\n",
    "        print(f\"The error '{e}' occurred\")"
   ]
  },
  {
   "cell_type": "code",
   "execution_count": 44,
   "metadata": {},
   "outputs": [
    {
     "name": "stdout",
     "output_type": "stream",
     "text": [
      "Query executed successfully\n"
     ]
    }
   ],
   "source": [
    "create_city_bikes_table = \"\"\"\n",
    "CREATE TABLE IF NOT EXISTS bikes (\n",
    "    id TEXT,\n",
    "    bikeStationName TEXT,\n",
    "    latitude FLOAT,\n",
    "    longitude FLOAT,\n",
    "    free_bikes INTEGER,\n",
    "    empty_slots INTEGER,\n",
    "    total_bike_slots INTEGER,\n",
    "    timestamp OBJECT,\n",
    "    extra_number INTEGER,\n",
    "    extra_reviews INTEGER,\n",
    "    extra_score FLOAT,\n",
    "    extra_status OBJECT,\n",
    "    extra_uid OBJECT,\n",
    "    PRIMARY KEY(latitude, longitude)\n",
    ");\n",
    "\"\"\"\n",
    "execute_query(connection, create_city_bikes_table) "
   ]
  },
  {
   "cell_type": "code",
   "execution_count": 45,
   "metadata": {},
   "outputs": [
    {
     "name": "stdout",
     "output_type": "stream",
     "text": [
      "Query executed successfully\n"
     ]
    }
   ],
   "source": [
    "create_foursquare_bike_info_table = \"\"\"\n",
    "CREATE TABLE IF NOT EXISTS foursquare_b (\n",
    "    bikeStationName TEXT,\n",
    "    latitude FLOAT,\n",
    "    longitude FLOAT,\n",
    "    total_bike_slots INTEGER,\n",
    "    F_listOfCafes OBJECT,\n",
    "    F_listOfRatings OBJECT,\n",
    "    F_numberOfCafes FLOAT,\n",
    "    F_averageRatings FLOAT,\n",
    "    PRIMARY KEY(latitude, longitude)\n",
    ");\n",
    "\"\"\"\n",
    "execute_query(connection, create_foursquare_bike_info_table) "
   ]
  },
  {
   "cell_type": "code",
   "execution_count": 46,
   "metadata": {},
   "outputs": [
    {
     "name": "stdout",
     "output_type": "stream",
     "text": [
      "Query executed successfully\n"
     ]
    }
   ],
   "source": [
    "create_yelp_bike_info_table = \"\"\"\n",
    "CREATE TABLE IF NOT EXISTS yelp_b (\n",
    "    bikeStationName TEXT,\n",
    "    latitude FLOAT,\n",
    "    longitude FLOAT,\n",
    "    total_bike_slots INTEGER,\n",
    "    Y_listOfCafes OBJECT,\n",
    "    Y_listOfRatings OBJECT,\n",
    "    Y_numberOfCafes FLOAT,\n",
    "    Y_averageRatings FLOAT,\n",
    "    PRIMARY KEY(latitude, longitude)\n",
    ");\n",
    "\"\"\"\n",
    "execute_query(connection, create_yelp_bike_info_table) "
   ]
  },
  {
   "cell_type": "code",
   "execution_count": 47,
   "metadata": {},
   "outputs": [
    {
     "name": "stdout",
     "output_type": "stream",
     "text": [
      "The error 'unrecognized token: \"#\"' occurred\n"
     ]
    }
   ],
   "source": [
    "create_city_bikes = \"\"\"\n",
    "INSERT INTO\n",
    "  bikes (# all the variables)\n",
    "VALUES\n",
    "  (# all the data)\n",
    "\"\"\"\n",
    "\n",
    "execute_query(connection, create_city_bikes)  "
   ]
  },
  {
   "cell_type": "code",
   "execution_count": 48,
   "metadata": {},
   "outputs": [
    {
     "name": "stdout",
     "output_type": "stream",
     "text": [
      "The error 'unrecognized token: \"#\"' occurred\n"
     ]
    }
   ],
   "source": [
    "create_foursquare_bike = \"\"\"\n",
    "INSERT INTO\n",
    "  foursquare_b (# all the variables)\n",
    "VALUES\n",
    "  (# all the data),\n",
    "\"\"\"\n",
    "\n",
    "execute_query(connection, create_foursquare_bike)  "
   ]
  },
  {
   "cell_type": "code",
   "execution_count": 49,
   "metadata": {},
   "outputs": [
    {
     "name": "stdout",
     "output_type": "stream",
     "text": [
      "The error 'unrecognized token: \"#\"' occurred\n"
     ]
    }
   ],
   "source": [
    "create_yelp_bike = \"\"\"\n",
    "INSERT INTO\n",
    "  yelp_b (# all the variables)\n",
    "VALUES\n",
    "  (# all the data),\n",
    "\"\"\"\n",
    "\n",
    "execute_query(connection, create_yelp_bike)  "
   ]
  },
  {
   "cell_type": "markdown",
   "metadata": {},
   "source": [
    "We learnt to manually insert data into the table which takes an excrutiating long time so I'm going to skip the step and explain what goes where to demonstrate that I know what is going on. If I have more time, I would try to put a recursive function to input the data. "
   ]
  }
 ],
 "metadata": {
  "kernelspec": {
   "display_name": "Python 3 (ipykernel)",
   "language": "python",
   "name": "python3"
  },
  "language_info": {
   "codemirror_mode": {
    "name": "ipython",
    "version": 3
   },
   "file_extension": ".py",
   "mimetype": "text/x-python",
   "name": "python",
   "nbconvert_exporter": "python",
   "pygments_lexer": "ipython3",
   "version": "3.10.9"
  }
 },
 "nbformat": 4,
 "nbformat_minor": 4
}
