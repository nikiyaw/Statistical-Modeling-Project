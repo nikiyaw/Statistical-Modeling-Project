{
 "cells": [
  {
   "cell_type": "code",
   "execution_count": 16,
   "metadata": {},
   "outputs": [],
   "source": [
    "import pandas as pd\n",
    "import statsmodels.api as sm\n",
    "from scipy import stats"
   ]
  },
  {
   "cell_type": "markdown",
   "metadata": {},
   "source": [
    "Import bikeInfoMerged csv file from the previous notebook."
   ]
  },
  {
   "cell_type": "code",
   "execution_count": 17,
   "metadata": {},
   "outputs": [
    {
     "data": {
      "text/html": [
       "<div>\n",
       "<style scoped>\n",
       "    .dataframe tbody tr th:only-of-type {\n",
       "        vertical-align: middle;\n",
       "    }\n",
       "\n",
       "    .dataframe tbody tr th {\n",
       "        vertical-align: top;\n",
       "    }\n",
       "\n",
       "    .dataframe thead th {\n",
       "        text-align: right;\n",
       "    }\n",
       "</style>\n",
       "<table border=\"1\" class=\"dataframe\">\n",
       "  <thead>\n",
       "    <tr style=\"text-align: right;\">\n",
       "      <th></th>\n",
       "      <th>bikeStationName</th>\n",
       "      <th>Latitude</th>\n",
       "      <th>Longitude</th>\n",
       "      <th>totalBikeSlots</th>\n",
       "      <th>F_numberOfCafes</th>\n",
       "      <th>F_averageRatings</th>\n",
       "      <th>Y_numberOfCafes</th>\n",
       "      <th>Y_averageRatings</th>\n",
       "    </tr>\n",
       "  </thead>\n",
       "  <tbody>\n",
       "    <tr>\n",
       "      <th>0</th>\n",
       "      <td>Curtatone</td>\n",
       "      <td>43.321600</td>\n",
       "      <td>11.327948</td>\n",
       "      <td>16</td>\n",
       "      <td>10.0</td>\n",
       "      <td>7.71</td>\n",
       "      <td>14.0</td>\n",
       "      <td>4.035714</td>\n",
       "    </tr>\n",
       "    <tr>\n",
       "      <th>1</th>\n",
       "      <td>S Agostino</td>\n",
       "      <td>43.314554</td>\n",
       "      <td>11.331021</td>\n",
       "      <td>10</td>\n",
       "      <td>10.0</td>\n",
       "      <td>7.71</td>\n",
       "      <td>13.0</td>\n",
       "      <td>4.000000</td>\n",
       "    </tr>\n",
       "    <tr>\n",
       "      <th>2</th>\n",
       "      <td>S Girolamo</td>\n",
       "      <td>43.316539</td>\n",
       "      <td>11.337212</td>\n",
       "      <td>7</td>\n",
       "      <td>10.0</td>\n",
       "      <td>NaN</td>\n",
       "      <td>13.0</td>\n",
       "      <td>4.000000</td>\n",
       "    </tr>\n",
       "    <tr>\n",
       "      <th>3</th>\n",
       "      <td>Fortezza</td>\n",
       "      <td>43.320523</td>\n",
       "      <td>11.323225</td>\n",
       "      <td>10</td>\n",
       "      <td>10.0</td>\n",
       "      <td>NaN</td>\n",
       "      <td>14.0</td>\n",
       "      <td>4.035714</td>\n",
       "    </tr>\n",
       "    <tr>\n",
       "      <th>4</th>\n",
       "      <td>Antiporto</td>\n",
       "      <td>43.328983</td>\n",
       "      <td>11.321913</td>\n",
       "      <td>10</td>\n",
       "      <td>10.0</td>\n",
       "      <td>NaN</td>\n",
       "      <td>5.0</td>\n",
       "      <td>4.100000</td>\n",
       "    </tr>\n",
       "    <tr>\n",
       "      <th>5</th>\n",
       "      <td>Due Ponti</td>\n",
       "      <td>43.317187</td>\n",
       "      <td>11.354256</td>\n",
       "      <td>12</td>\n",
       "      <td>6.0</td>\n",
       "      <td>NaN</td>\n",
       "      <td>0.0</td>\n",
       "      <td>NaN</td>\n",
       "    </tr>\n",
       "    <tr>\n",
       "      <th>6</th>\n",
       "      <td>Napoli</td>\n",
       "      <td>43.341757</td>\n",
       "      <td>11.305010</td>\n",
       "      <td>6</td>\n",
       "      <td>7.0</td>\n",
       "      <td>NaN</td>\n",
       "      <td>1.0</td>\n",
       "      <td>3.000000</td>\n",
       "    </tr>\n",
       "    <tr>\n",
       "      <th>7</th>\n",
       "      <td>Ospedale</td>\n",
       "      <td>43.343243</td>\n",
       "      <td>11.326733</td>\n",
       "      <td>14</td>\n",
       "      <td>0.0</td>\n",
       "      <td>NaN</td>\n",
       "      <td>0.0</td>\n",
       "      <td>NaN</td>\n",
       "    </tr>\n",
       "    <tr>\n",
       "      <th>8</th>\n",
       "      <td>Acquacalda</td>\n",
       "      <td>43.336999</td>\n",
       "      <td>11.300975</td>\n",
       "      <td>10</td>\n",
       "      <td>6.0</td>\n",
       "      <td>NaN</td>\n",
       "      <td>1.0</td>\n",
       "      <td>3.000000</td>\n",
       "    </tr>\n",
       "    <tr>\n",
       "      <th>9</th>\n",
       "      <td>Ravacciano</td>\n",
       "      <td>43.323781</td>\n",
       "      <td>11.338891</td>\n",
       "      <td>10</td>\n",
       "      <td>10.0</td>\n",
       "      <td>NaN</td>\n",
       "      <td>13.0</td>\n",
       "      <td>4.000000</td>\n",
       "    </tr>\n",
       "    <tr>\n",
       "      <th>10</th>\n",
       "      <td>S Miniato</td>\n",
       "      <td>43.347800</td>\n",
       "      <td>11.326046</td>\n",
       "      <td>10</td>\n",
       "      <td>0.0</td>\n",
       "      <td>NaN</td>\n",
       "      <td>0.0</td>\n",
       "      <td>NaN</td>\n",
       "    </tr>\n",
       "    <tr>\n",
       "      <th>11</th>\n",
       "      <td>Terminal Bus</td>\n",
       "      <td>43.332288</td>\n",
       "      <td>11.324176</td>\n",
       "      <td>12</td>\n",
       "      <td>10.0</td>\n",
       "      <td>NaN</td>\n",
       "      <td>2.0</td>\n",
       "      <td>3.750000</td>\n",
       "    </tr>\n",
       "    <tr>\n",
       "      <th>12</th>\n",
       "      <td>Vico Alto</td>\n",
       "      <td>43.341445</td>\n",
       "      <td>11.312348</td>\n",
       "      <td>8</td>\n",
       "      <td>7.0</td>\n",
       "      <td>NaN</td>\n",
       "      <td>1.0</td>\n",
       "      <td>3.000000</td>\n",
       "    </tr>\n",
       "    <tr>\n",
       "      <th>13</th>\n",
       "      <td>Casa dell'Ambiente</td>\n",
       "      <td>43.326764</td>\n",
       "      <td>11.333702</td>\n",
       "      <td>6</td>\n",
       "      <td>10.0</td>\n",
       "      <td>NaN</td>\n",
       "      <td>11.0</td>\n",
       "      <td>4.045455</td>\n",
       "    </tr>\n",
       "    <tr>\n",
       "      <th>14</th>\n",
       "      <td>Frajese</td>\n",
       "      <td>43.309896</td>\n",
       "      <td>11.315263</td>\n",
       "      <td>10</td>\n",
       "      <td>5.0</td>\n",
       "      <td>NaN</td>\n",
       "      <td>0.0</td>\n",
       "      <td>NaN</td>\n",
       "    </tr>\n",
       "    <tr>\n",
       "      <th>15</th>\n",
       "      <td>Mercato</td>\n",
       "      <td>43.317315</td>\n",
       "      <td>11.332998</td>\n",
       "      <td>12</td>\n",
       "      <td>10.0</td>\n",
       "      <td>7.71</td>\n",
       "      <td>13.0</td>\n",
       "      <td>4.000000</td>\n",
       "    </tr>\n",
       "    <tr>\n",
       "      <th>16</th>\n",
       "      <td>Tufi</td>\n",
       "      <td>43.296856</td>\n",
       "      <td>11.334854</td>\n",
       "      <td>9</td>\n",
       "      <td>0.0</td>\n",
       "      <td>NaN</td>\n",
       "      <td>1.0</td>\n",
       "      <td>4.000000</td>\n",
       "    </tr>\n",
       "    <tr>\n",
       "      <th>17</th>\n",
       "      <td>Calamandrei</td>\n",
       "      <td>43.343407</td>\n",
       "      <td>11.322849</td>\n",
       "      <td>10</td>\n",
       "      <td>0.0</td>\n",
       "      <td>NaN</td>\n",
       "      <td>1.0</td>\n",
       "      <td>3.000000</td>\n",
       "    </tr>\n",
       "    <tr>\n",
       "      <th>18</th>\n",
       "      <td>Petriccio</td>\n",
       "      <td>43.334640</td>\n",
       "      <td>11.304803</td>\n",
       "      <td>10</td>\n",
       "      <td>6.0</td>\n",
       "      <td>NaN</td>\n",
       "      <td>2.0</td>\n",
       "      <td>3.000000</td>\n",
       "    </tr>\n",
       "  </tbody>\n",
       "</table>\n",
       "</div>"
      ],
      "text/plain": [
       "        bikeStationName   Latitude  Longitude  totalBikeSlots  \\\n",
       "0             Curtatone  43.321600  11.327948              16   \n",
       "1            S Agostino  43.314554  11.331021              10   \n",
       "2            S Girolamo  43.316539  11.337212               7   \n",
       "3              Fortezza  43.320523  11.323225              10   \n",
       "4             Antiporto  43.328983  11.321913              10   \n",
       "5             Due Ponti  43.317187  11.354256              12   \n",
       "6                Napoli  43.341757  11.305010               6   \n",
       "7              Ospedale  43.343243  11.326733              14   \n",
       "8            Acquacalda  43.336999  11.300975              10   \n",
       "9            Ravacciano  43.323781  11.338891              10   \n",
       "10            S Miniato  43.347800  11.326046              10   \n",
       "11         Terminal Bus  43.332288  11.324176              12   \n",
       "12            Vico Alto  43.341445  11.312348               8   \n",
       "13   Casa dell'Ambiente  43.326764  11.333702               6   \n",
       "14              Frajese  43.309896  11.315263              10   \n",
       "15              Mercato  43.317315  11.332998              12   \n",
       "16                 Tufi  43.296856  11.334854               9   \n",
       "17          Calamandrei  43.343407  11.322849              10   \n",
       "18            Petriccio  43.334640  11.304803              10   \n",
       "\n",
       "    F_numberOfCafes  F_averageRatings  Y_numberOfCafes  Y_averageRatings  \n",
       "0              10.0              7.71             14.0          4.035714  \n",
       "1              10.0              7.71             13.0          4.000000  \n",
       "2              10.0               NaN             13.0          4.000000  \n",
       "3              10.0               NaN             14.0          4.035714  \n",
       "4              10.0               NaN              5.0          4.100000  \n",
       "5               6.0               NaN              0.0               NaN  \n",
       "6               7.0               NaN              1.0          3.000000  \n",
       "7               0.0               NaN              0.0               NaN  \n",
       "8               6.0               NaN              1.0          3.000000  \n",
       "9              10.0               NaN             13.0          4.000000  \n",
       "10              0.0               NaN              0.0               NaN  \n",
       "11             10.0               NaN              2.0          3.750000  \n",
       "12              7.0               NaN              1.0          3.000000  \n",
       "13             10.0               NaN             11.0          4.045455  \n",
       "14              5.0               NaN              0.0               NaN  \n",
       "15             10.0              7.71             13.0          4.000000  \n",
       "16              0.0               NaN              1.0          4.000000  \n",
       "17              0.0               NaN              1.0          3.000000  \n",
       "18              6.0               NaN              2.0          3.000000  "
      ]
     },
     "execution_count": 17,
     "metadata": {},
     "output_type": "execute_result"
    }
   ],
   "source": [
    "df_bike = pd.read_csv('/Users/nikiyaw/Desktop/bikeInfoMerged.csv', sep=';', index_col=0)\n",
    "df_bike"
   ]
  },
  {
   "cell_type": "markdown",
   "metadata": {},
   "source": [
    "Build a regression model.\n",
    "Provide model output and an interpretation of the results.\n",
    "\n",
    "We will be creating two simple linear regression models using totalBikeSlots as the dependent variable and F_numberOfCafes & Y_numberOfCafes as the independent variables."
   ]
  },
  {
   "cell_type": "code",
   "execution_count": 18,
   "metadata": {},
   "outputs": [
    {
     "name": "stdout",
     "output_type": "stream",
     "text": [
      "                                 OLS Regression Results                                \n",
      "=======================================================================================\n",
      "Dep. Variable:         totalBikeSlots   R-squared (uncentered):                   0.696\n",
      "Model:                            OLS   Adj. R-squared (uncentered):              0.679\n",
      "Method:                 Least Squares   F-statistic:                              41.14\n",
      "Date:                Mon, 05 Jun 2023   Prob (F-statistic):                    4.88e-06\n",
      "Time:                        10:00:50   Log-Likelihood:                         -60.130\n",
      "No. Observations:                  19   AIC:                                      122.3\n",
      "Df Residuals:                      18   BIC:                                      123.2\n",
      "Df Model:                           1                                                  \n",
      "Covariance Type:            nonrobust                                                  \n",
      "===================================================================================\n",
      "                      coef    std err          t      P>|t|      [0.025      0.975]\n",
      "-----------------------------------------------------------------------------------\n",
      "F_numberOfCafes     1.1229      0.175      6.414      0.000       0.755       1.491\n",
      "==============================================================================\n",
      "Omnibus:                        1.525   Durbin-Watson:                   1.593\n",
      "Prob(Omnibus):                  0.467   Jarque-Bera (JB):                1.266\n",
      "Skew:                           0.574   Prob(JB):                        0.531\n",
      "Kurtosis:                       2.468   Cond. No.                         1.00\n",
      "==============================================================================\n",
      "\n",
      "Notes:\n",
      "[1] R² is computed without centering (uncentered) since the model does not contain a constant.\n",
      "[2] Standard Errors assume that the covariance matrix of the errors is correctly specified.\n"
     ]
    },
    {
     "name": "stderr",
     "output_type": "stream",
     "text": [
      "/Users/nikiyaw/anaconda3/lib/python3.10/site-packages/scipy/stats/_stats_py.py:1736: UserWarning: kurtosistest only valid for n>=20 ... continuing anyway, n=19\n",
      "  warnings.warn(\"kurtosistest only valid for n>=20 ... continuing \"\n"
     ]
    }
   ],
   "source": [
    "X = df_bike\n",
    "y = df_bike['totalBikeSlots']\n",
    "\n",
    "X = sm.add_constant(X) # adding a constant\n",
    "lin_reg = sm.OLS(y,X['F_numberOfCafes'])\n",
    "\n",
    "model_1 = lin_reg.fit()\n",
    "print_model_1 = model_1.summary()\n",
    "print(print_model_1)"
   ]
  },
  {
   "cell_type": "markdown",
   "metadata": {},
   "source": [
    "R-squared reflects the fit of the model, which means the model is capable of explaining only 69.6% of the patterns in the data. \n",
    "The regression output shows a p-value of 0, which means that the probability of the realtionship between the F_numberOfCafes and totalBikeSlots being solely due to natural variation is 0. The F_numberOfCafes does impact the totalBikeSlots. \n",
    "The coefficient value of 1.1229 shows that the increase of F_numberOfCafes will have a positive impact on the totalBikeSlots."
   ]
  },
  {
   "cell_type": "code",
   "execution_count": 19,
   "metadata": {},
   "outputs": [
    {
     "name": "stdout",
     "output_type": "stream",
     "text": [
      "                                 OLS Regression Results                                \n",
      "=======================================================================================\n",
      "Dep. Variable:         totalBikeSlots   R-squared (uncentered):                   0.459\n",
      "Model:                            OLS   Adj. R-squared (uncentered):              0.428\n",
      "Method:                 Least Squares   F-statistic:                              15.25\n",
      "Date:                Mon, 05 Jun 2023   Prob (F-statistic):                     0.00104\n",
      "Time:                        10:00:51   Log-Likelihood:                         -65.602\n",
      "No. Observations:                  19   AIC:                                      133.2\n",
      "Df Residuals:                      18   BIC:                                      134.1\n",
      "Df Model:                           1                                                  \n",
      "Covariance Type:            nonrobust                                                  \n",
      "===================================================================================\n",
      "                      coef    std err          t      P>|t|      [0.025      0.975]\n",
      "-----------------------------------------------------------------------------------\n",
      "Y_numberOfCafes     0.8753      0.224      3.905      0.001       0.404       1.346\n",
      "==============================================================================\n",
      "Omnibus:                        3.093   Durbin-Watson:                   0.891\n",
      "Prob(Omnibus):                  0.213   Jarque-Bera (JB):                1.564\n",
      "Skew:                          -0.385   Prob(JB):                        0.458\n",
      "Kurtosis:                       1.824   Cond. No.                         1.00\n",
      "==============================================================================\n",
      "\n",
      "Notes:\n",
      "[1] R² is computed without centering (uncentered) since the model does not contain a constant.\n",
      "[2] Standard Errors assume that the covariance matrix of the errors is correctly specified.\n"
     ]
    },
    {
     "name": "stderr",
     "output_type": "stream",
     "text": [
      "/Users/nikiyaw/anaconda3/lib/python3.10/site-packages/scipy/stats/_stats_py.py:1736: UserWarning: kurtosistest only valid for n>=20 ... continuing anyway, n=19\n",
      "  warnings.warn(\"kurtosistest only valid for n>=20 ... continuing \"\n"
     ]
    }
   ],
   "source": [
    "X = sm.add_constant(X) # adding a constant\n",
    "lin_reg = sm.OLS(y,X['Y_numberOfCafes'])\n",
    "\n",
    "model_2 = lin_reg.fit()\n",
    "print_model_2 = model_2.summary()\n",
    "print(print_model_2)"
   ]
  },
  {
   "cell_type": "markdown",
   "metadata": {},
   "source": [
    "R-squared reflects the fit of the model, which means the model is capable of explaining only 45.9% of the patterns in the data. \n",
    "The p-value is 0.001, which means that the probability of the realtionship between the F_numberOfCafes and totalBikeSlots being solely due to natural variation is 0.001. The F_numberOfCafes does impact the totalBikeSlots. \n",
    "The coefficient value of 0.8753 shows that the increase of F_numberOfCafes will have a positive impact on the totalBikeSlots."
   ]
  },
  {
   "cell_type": "markdown",
   "metadata": {},
   "source": [
    "We are obtaining data from two different API sources throughout this exercise, Foursqaure and Yelp. The target variable is the number of cafes within a radius of 1km from all the bike stations. Let's compare if the outcome obtained from both APIs are the same. \n",
    "\n",
    "We will use the t-tests to investigate whether the results from both API are the same, by comparing F_numberOfCafes & Y_numberOfCafes. "
   ]
  },
  {
   "cell_type": "code",
   "execution_count": 20,
   "metadata": {},
   "outputs": [
    {
     "data": {
      "text/plain": [
       "count    19.000000\n",
       "mean      6.684211\n",
       "std       3.958853\n",
       "min       0.000000\n",
       "25%       5.500000\n",
       "50%       7.000000\n",
       "75%      10.000000\n",
       "max      10.000000\n",
       "Name: F_numberOfCafes, dtype: float64"
      ]
     },
     "execution_count": 20,
     "metadata": {},
     "output_type": "execute_result"
    }
   ],
   "source": [
    "df_bike['F_numberOfCafes'].describe()"
   ]
  },
  {
   "cell_type": "code",
   "execution_count": 21,
   "metadata": {},
   "outputs": [
    {
     "data": {
      "text/plain": [
       "6.684210526315789"
      ]
     },
     "execution_count": 21,
     "metadata": {},
     "output_type": "execute_result"
    }
   ],
   "source": [
    "F_mean = df_bike['F_numberOfCafes'].mean()\n",
    "F_mean"
   ]
  },
  {
   "cell_type": "code",
   "execution_count": 22,
   "metadata": {},
   "outputs": [
    {
     "data": {
      "text/plain": [
       "count    19.000000\n",
       "mean      5.526316\n",
       "std       5.994149\n",
       "min       0.000000\n",
       "25%       1.000000\n",
       "50%       2.000000\n",
       "75%      13.000000\n",
       "max      14.000000\n",
       "Name: Y_numberOfCafes, dtype: float64"
      ]
     },
     "execution_count": 22,
     "metadata": {},
     "output_type": "execute_result"
    }
   ],
   "source": [
    "df_bike['Y_numberOfCafes'].describe()"
   ]
  },
  {
   "cell_type": "code",
   "execution_count": 23,
   "metadata": {},
   "outputs": [
    {
     "data": {
      "text/plain": [
       "5.526315789473684"
      ]
     },
     "execution_count": 23,
     "metadata": {},
     "output_type": "execute_result"
    }
   ],
   "source": [
    "Y_mean = df_bike['Y_numberOfCafes'].mean()\n",
    "Y_mean"
   ]
  },
  {
   "cell_type": "code",
   "execution_count": 29,
   "metadata": {},
   "outputs": [
    {
     "name": "stderr",
     "output_type": "stream",
     "text": [
      "/var/folders/mg/9c8_3q293sgg37fxt_551_tm0000gn/T/ipykernel_3010/912582688.py:1: RuntimeWarning: Precision loss occurred in moment calculation due to catastrophic cancellation. This occurs when the data are nearly identical. Results may be unreliable.\n",
      "  stat, p = stats.ttest_ind(F_mean, Y_mean, equal_var=False)\n"
     ]
    },
    {
     "data": {
      "text/plain": [
       "nan"
      ]
     },
     "execution_count": 29,
     "metadata": {},
     "output_type": "execute_result"
    }
   ],
   "source": [
    "stat, p = stats.ttest_ind(F_mean, Y_mean)\n",
    "p"
   ]
  },
  {
   "cell_type": "markdown",
   "metadata": {},
   "source": [
    "Equal variance test"
   ]
  },
  {
   "cell_type": "code",
   "execution_count": 25,
   "metadata": {},
   "outputs": [
    {
     "name": "stdout",
     "output_type": "stream",
     "text": [
      "[15.672514619883044, 35.929824561403514]\n"
     ]
    }
   ],
   "source": [
    "F_std = df_bike['F_numberOfCafes'].std()**2\n",
    "Y_std = df_bike['Y_numberOfCafes'].std()**2\n",
    "print([F_std, Y_std])"
   ]
  },
  {
   "cell_type": "code",
   "execution_count": 28,
   "metadata": {},
   "outputs": [
    {
     "ename": "TypeError",
     "evalue": "object of type 'numpy.float64' has no len()",
     "output_type": "error",
     "traceback": [
      "\u001b[0;31m---------------------------------------------------------------------------\u001b[0m",
      "\u001b[0;31mTypeError\u001b[0m                                 Traceback (most recent call last)",
      "Cell \u001b[0;32mIn[28], line 1\u001b[0m\n\u001b[0;32m----> 1\u001b[0m stat, p \u001b[38;5;241m=\u001b[39m \u001b[43mstats\u001b[49m\u001b[38;5;241;43m.\u001b[39;49m\u001b[43mlevene\u001b[49m\u001b[43m(\u001b[49m\u001b[43mF_mean\u001b[49m\u001b[43m,\u001b[49m\u001b[43m \u001b[49m\u001b[43mY_mean\u001b[49m\u001b[43m)\u001b[49m\n\u001b[1;32m      2\u001b[0m p\n",
      "File \u001b[0;32m~/anaconda3/lib/python3.10/site-packages/scipy/stats/_morestats.py:2684\u001b[0m, in \u001b[0;36mlevene\u001b[0;34m(center, proportiontocut, *samples)\u001b[0m\n\u001b[1;32m   2681\u001b[0m     func \u001b[38;5;241m=\u001b[39m \u001b[38;5;28;01mlambda\u001b[39;00m x: np\u001b[38;5;241m.\u001b[39mmean(x, axis\u001b[38;5;241m=\u001b[39m\u001b[38;5;241m0\u001b[39m)\n\u001b[1;32m   2683\u001b[0m \u001b[38;5;28;01mfor\u001b[39;00m j \u001b[38;5;129;01min\u001b[39;00m \u001b[38;5;28mrange\u001b[39m(k):\n\u001b[0;32m-> 2684\u001b[0m     Ni[j] \u001b[38;5;241m=\u001b[39m \u001b[38;5;28;43mlen\u001b[39;49m\u001b[43m(\u001b[49m\u001b[43msamples\u001b[49m\u001b[43m[\u001b[49m\u001b[43mj\u001b[49m\u001b[43m]\u001b[49m\u001b[43m)\u001b[49m\n\u001b[1;32m   2685\u001b[0m     Yci[j] \u001b[38;5;241m=\u001b[39m func(samples[j])\n\u001b[1;32m   2686\u001b[0m Ntot \u001b[38;5;241m=\u001b[39m np\u001b[38;5;241m.\u001b[39msum(Ni, axis\u001b[38;5;241m=\u001b[39m\u001b[38;5;241m0\u001b[39m)\n",
      "\u001b[0;31mTypeError\u001b[0m: object of type 'numpy.float64' has no len()"
     ]
    }
   ],
   "source": [
    "stat, p = stats.levene(F_mean, Y_mean)\n",
    "p"
   ]
  },
  {
   "cell_type": "markdown",
   "metadata": {},
   "source": [
    "# Stretch"
   ]
  },
  {
   "cell_type": "markdown",
   "metadata": {},
   "source": [
    "How can you turn the regression model into a classification model?"
   ]
  },
  {
   "cell_type": "code",
   "execution_count": null,
   "metadata": {},
   "outputs": [],
   "source": []
  }
 ],
 "metadata": {
  "kernelspec": {
   "display_name": "Python 3 (ipykernel)",
   "language": "python",
   "name": "python3"
  },
  "language_info": {
   "codemirror_mode": {
    "name": "ipython",
    "version": 3
   },
   "file_extension": ".py",
   "mimetype": "text/x-python",
   "name": "python",
   "nbconvert_exporter": "python",
   "pygments_lexer": "ipython3",
   "version": "3.10.9"
  }
 },
 "nbformat": 4,
 "nbformat_minor": 4
}
